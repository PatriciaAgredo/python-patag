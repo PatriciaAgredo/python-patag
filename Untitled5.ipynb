{
  "nbformat": 4,
  "nbformat_minor": 0,
  "metadata": {
    "colab": {
      "provenance": [],
      "authorship_tag": "ABX9TyO2UIrs505NOZ+gPZ7Csoiv",
      "include_colab_link": true
    },
    "kernelspec": {
      "name": "python3",
      "display_name": "Python 3"
    },
    "language_info": {
      "name": "python"
    }
  },
  "cells": [
    {
      "cell_type": "markdown",
      "metadata": {
        "id": "view-in-github",
        "colab_type": "text"
      },
      "source": [
        "<a href=\"https://colab.research.google.com/github/PatriciaAgredo/python-patag/blob/main/Untitled5.ipynb\" target=\"_parent\"><img src=\"https://colab.research.google.com/assets/colab-badge.svg\" alt=\"Open In Colab\"/></a>"
      ]
    },
    {
      "cell_type": "code",
      "execution_count": 1,
      "metadata": {
        "colab": {
          "base_uri": "https://localhost:8080/"
        },
        "id": "DvtQ4X-e9iSV",
        "outputId": "a3cc8c12-2159-4c4e-a4f7-e2806a036a00"
      },
      "outputs": [
        {
          "output_type": "stream",
          "name": "stdout",
          "text": [
            "Looking in indexes: https://pypi.org/simple, https://us-python.pkg.dev/colab-wheels/public/simple/\n",
            "Collecting fpdf\n",
            "  Downloading fpdf-1.7.2.tar.gz (39 kB)\n",
            "Building wheels for collected packages: fpdf\n",
            "  Building wheel for fpdf (setup.py) ... \u001b[?25l\u001b[?25hdone\n",
            "  Created wheel for fpdf: filename=fpdf-1.7.2-py2.py3-none-any.whl size=40721 sha256=a1eec52ca03b73a11d2ed535153f82015f4f6a2112e34108bf5cebd57a2f0463\n",
            "  Stored in directory: /root/.cache/pip/wheels/b4/7f/00/f90ea7c44f8b921477205baa66a7aaf04be398f743ea946fd5\n",
            "Successfully built fpdf\n",
            "Installing collected packages: fpdf\n",
            "Successfully installed fpdf-1.7.2\n"
          ]
        }
      ],
      "source": [
        "!pip install fpdf"
      ]
    },
    {
      "cell_type": "code",
      "source": [
        "from fpdf import FPDF"
      ],
      "metadata": {
        "id": "vC092BnR-cHu"
      },
      "execution_count": 2,
      "outputs": []
    },
    {
      "cell_type": "code",
      "source": [
        "pdf = FPDF()"
      ],
      "metadata": {
        "id": "ePrj17gZ-h-R"
      },
      "execution_count": 3,
      "outputs": []
    },
    {
      "cell_type": "code",
      "source": [],
      "metadata": {
        "id": "PW-2clzP-ms8"
      },
      "execution_count": null,
      "outputs": []
    },
    {
      "cell_type": "markdown",
      "source": [
        "# Meu primer pdf em python"
      ],
      "metadata": {
        "id": "w6xkh1lbANDU"
      }
    },
    {
      "cell_type": "code",
      "source": [
        "#Iste seria um arçamento\n",
        "\n",
        "nome = input('Coloque seu nome ')\n",
        "projeto = input('Indique  o nome de seu projeto ')\n",
        "horas = (input('Quantas horas estima que levará o projeto? '))\n",
        "valor = (input('Qual é valor cobrado por hora? '))\n",
        "valor_total = float(horas)*float(valor)\n",
        "print( nome, \"o valor total de seu orçamento é\" , valor_total,\"reais\")\n",
        "\n",
        "\n"
      ],
      "metadata": {
        "colab": {
          "base_uri": "https://localhost:8080/"
        },
        "id": "IQnQOsvhATio",
        "outputId": "f5b9dded-0031-46b6-97c7-6030d128cf91"
      },
      "execution_count": 4,
      "outputs": [
        {
          "output_type": "stream",
          "name": "stdout",
          "text": [
            "Coloque seu nome Pat\n",
            "Indique  o nome de seu projeto orçamento em python\n",
            "Quantas horas estima que levará o projeto? 2\n",
            "Qual é valor cobrado por hora? 100\n",
            "Pat o valor total de seu orçamento é 200.0\n"
          ]
        }
      ]
    },
    {
      "cell_type": "code",
      "source": [
        "pdf.add_page()\n",
        "pdf.set_font(\"Arial\")\n",
        "\n",
        "pdf.text(50,50, \"Orçamento\" )\n",
        "pdf.text(50,65,nome)\n"
      ],
      "metadata": {
        "id": "6dcb5yV4Byn_"
      },
      "execution_count": 12,
      "outputs": []
    },
    {
      "cell_type": "code",
      "source": [
        "pdf.text(50,80,projeto)"
      ],
      "metadata": {
        "id": "cV7BV-rvFQ8b"
      },
      "execution_count": 18,
      "outputs": []
    },
    {
      "cell_type": "code",
      "source": [],
      "metadata": {
        "id": "ixIUWR8_FKJU"
      },
      "execution_count": null,
      "outputs": []
    },
    {
      "cell_type": "code",
      "source": [
        "type(horas)"
      ],
      "metadata": {
        "colab": {
          "base_uri": "https://localhost:8080/"
        },
        "id": "SKkrfLGVGYDL",
        "outputId": "28ed7cd2-7714-4ddf-945f-1095fca15636"
      },
      "execution_count": 20,
      "outputs": [
        {
          "output_type": "execute_result",
          "data": {
            "text/plain": [
              "str"
            ]
          },
          "metadata": {},
          "execution_count": 20
        }
      ]
    },
    {
      "cell_type": "code",
      "source": [
        "pdf.text(50,95, horas)"
      ],
      "metadata": {
        "id": "M40-_a3hFb3V"
      },
      "execution_count": 25,
      "outputs": []
    },
    {
      "cell_type": "code",
      "source": [
        "pdf.text(50,110,str(valor_total))"
      ],
      "metadata": {
        "id": "W4pUjRn-GvCE"
      },
      "execution_count": 23,
      "outputs": []
    },
    {
      "cell_type": "code",
      "source": [
        "pdf.output(\"Orçamento.pdf\")"
      ],
      "metadata": {
        "colab": {
          "base_uri": "https://localhost:8080/",
          "height": 36
        },
        "id": "l40dApGBHArz",
        "outputId": "913f92ca-4f74-4fbd-8c8d-e600a5c5ea8e"
      },
      "execution_count": 27,
      "outputs": [
        {
          "output_type": "execute_result",
          "data": {
            "text/plain": [
              "''"
            ],
            "application/vnd.google.colaboratory.intrinsic+json": {
              "type": "string"
            }
          },
          "metadata": {},
          "execution_count": 27
        }
      ]
    },
    {
      "cell_type": "code",
      "source": [],
      "metadata": {
        "id": "glNs3qauHIbJ"
      },
      "execution_count": null,
      "outputs": []
    }
  ]
}